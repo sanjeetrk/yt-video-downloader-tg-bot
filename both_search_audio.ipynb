{
  "cells": [
    {
      "cell_type": "markdown",
      "metadata": {
        "id": "view-in-github",
        "colab_type": "text"
      },
      "source": [
        "<a href=\"https://colab.research.google.com/github/sanjeetrk/yt-video-downloader-tg-bot/blob/main/both_search_audio.ipynb\" target=\"_parent\"><img src=\"https://colab.research.google.com/assets/colab-badge.svg\" alt=\"Open In Colab\"/></a>"
      ]
    },
    {
      "cell_type": "code",
      "execution_count": null,
      "metadata": {
        "colab": {
          "background_save": true,
          "base_uri": "https://localhost:8080/"
        },
        "id": "gcBX7yQ1RRsq",
        "outputId": "84e00928-1fad-442d-d7a1-a88410218d2f"
      },
      "outputs": [
        {
          "output_type": "stream",
          "name": "stdout",
          "text": [
            "Collecting pyTelegramBotAPI\n",
            "  Downloading pytelegrambotapi-4.18.0-py3-none-any.whl (242 kB)\n",
            "\u001b[?25l     \u001b[90m━━━━━━━━━━━━━━━━━━━━━━━━━━━━━━━━━━━━━━━━\u001b[0m \u001b[32m0.0/242.9 kB\u001b[0m \u001b[31m?\u001b[0m eta \u001b[36m-:--:--\u001b[0m\r\u001b[2K     \u001b[91m━━━━━━━━━━━━━━━━━━━━━━━━━━━━━━━━━\u001b[0m\u001b[91m╸\u001b[0m\u001b[90m━━━━━━\u001b[0m \u001b[32m204.8/242.9 kB\u001b[0m \u001b[31m6.2 MB/s\u001b[0m eta \u001b[36m0:00:01\u001b[0m\r\u001b[2K     \u001b[90m━━━━━━━━━━━━━━━━━━━━━━━━━━━━━━━━━━━━━━━━\u001b[0m \u001b[32m242.9/242.9 kB\u001b[0m \u001b[31m5.4 MB/s\u001b[0m eta \u001b[36m0:00:00\u001b[0m\n",
            "\u001b[?25hCollecting pytube\n",
            "  Downloading pytube-15.0.0-py3-none-any.whl (57 kB)\n",
            "\u001b[?25l     \u001b[90m━━━━━━━━━━━━━━━━━━━━━━━━━━━━━━━━━━━━━━━━\u001b[0m \u001b[32m0.0/57.6 kB\u001b[0m \u001b[31m?\u001b[0m eta \u001b[36m-:--:--\u001b[0m\r\u001b[2K     \u001b[90m━━━━━━━━━━━━━━━━━━━━━━━━━━━━━━━━━━━━━━━━\u001b[0m \u001b[32m57.6/57.6 kB\u001b[0m \u001b[31m7.4 MB/s\u001b[0m eta \u001b[36m0:00:00\u001b[0m\n",
            "\u001b[?25hRequirement already satisfied: requests in /usr/local/lib/python3.10/dist-packages (from pyTelegramBotAPI) (2.31.0)\n",
            "Requirement already satisfied: charset-normalizer<4,>=2 in /usr/local/lib/python3.10/dist-packages (from requests->pyTelegramBotAPI) (3.3.2)\n",
            "Requirement already satisfied: idna<4,>=2.5 in /usr/local/lib/python3.10/dist-packages (from requests->pyTelegramBotAPI) (3.7)\n",
            "Requirement already satisfied: urllib3<3,>=1.21.1 in /usr/local/lib/python3.10/dist-packages (from requests->pyTelegramBotAPI) (2.0.7)\n",
            "Requirement already satisfied: certifi>=2017.4.17 in /usr/local/lib/python3.10/dist-packages (from requests->pyTelegramBotAPI) (2024.2.2)\n",
            "Installing collected packages: pytube, pyTelegramBotAPI\n",
            "Successfully installed pyTelegramBotAPI-4.18.0 pytube-15.0.0\n"
          ]
        }
      ],
      "source": [
        "import os\n",
        "import requests\n",
        "import re\n",
        "from google.colab import userdata\n",
        "try:\n",
        "    import telebot\n",
        "    from pytube import YouTube\n",
        "except ImportError:\n",
        "    !pip install pyTelegramBotAPI pytube\n",
        "    import telebot\n",
        "    from pytube import YouTube\n",
        "\n",
        "# Initialize your bot with the Telegram token\n",
        "try:\n",
        "  TOKEN = userdata.get('ytdownkey')\n",
        "except userdata.SecretNotFoundError:\n",
        "  TOKEN=input(\"Enter your Bot token\\n\")\n",
        "bot = telebot.TeleBot(TOKEN)\n",
        "\n",
        "def download_audio(url, output_dir):\n",
        "    yt = YouTube(url)\n",
        "    audio_stream = yt.streams.filter(only_audio=True).order_by('abr').desc().first()\n",
        "    if not os.path.exists(output_dir):\n",
        "        os.makedirs(output_dir)\n",
        "    audio_file_path = audio_stream.download(output_dir)\n",
        "    new_file_path = audio_file_path[:-4] + \".mp3\"\n",
        "    os.rename(audio_file_path, new_file_path)\n",
        "    return new_file_path\n",
        "\n",
        "def search_youtube_videos(query):\n",
        "    encoded_query = requests.utils.quote(query)\n",
        "    search_url = f\"https://www.youtube.com/results?search_query={encoded_query}\"\n",
        "    headers = {'User-Agent': 'Mozilla/5.0'}\n",
        "    response = requests.get(search_url, headers=headers)\n",
        "    # Matching video IDs and Titles from the page\n",
        "    # video_ids = re.findall(r'watch\\?v=(\\S{11})', response.text)\n",
        "    video_ids = re.findall(r'watch\\?v=([a-zA-Z0-9_-]{11})', response.text)\n",
        "\n",
        "    video_titles = re.findall(r'\"title\":{\"runs\":\\[{\"text\":\"([^\"]+)\"\\}\\]', response.text)\n",
        "    links = []\n",
        "    for i in range(min(len(video_ids), 5)):  # Collect up to 5 video links and titles\n",
        "        video_url = f\"https://www.youtube.com/watch?v={video_ids[i]}\"\n",
        "        video_title = video_titles[i] if i < len(video_titles) else \"No title available\"\n",
        "        links.append(f\"{video_title} - {video_url}\\n\")\n",
        "    return links\n",
        "\n",
        "@bot.message_handler(commands=['start'])\n",
        "def send_welcome(message):\n",
        "    bot.reply_to(message, \"Send me a YouTube link to download audio, or any text to search on YouTube.\")\n",
        "\n",
        "@bot.message_handler(func=lambda message: True)\n",
        "def handle_message(message):\n",
        "    if 'http' in message.text or 'https' in message.text:\n",
        "        try:\n",
        "            video_url = message.text\n",
        "            output_directory = \"output/\"\n",
        "            audio_file_path = download_audio(video_url, output_directory)\n",
        "            with open(audio_file_path, 'rb') as audio_file:\n",
        "                bot.send_audio(message.chat.id, audio_file)\n",
        "            os.remove(audio_file_path)\n",
        "        except Exception as e:\n",
        "            bot.reply_to(message, f\"Error downloading audio: {str(e)}\")\n",
        "    else:\n",
        "        try:\n",
        "            search_results = search_youtube_videos(message.text)\n",
        "            response_message = \"Top search results:\\n\" + \"\\n\".join(search_results)\n",
        "            bot.send_message(message.chat.id, response_message)\n",
        "        except Exception as e:\n",
        "            bot.reply_to(message, f\"Error searching YouTube: {str(e)}\")\n",
        "\n",
        "bot.polling()\n"
      ]
    }
  ],
  "metadata": {
    "colab": {
      "provenance": [],
      "mount_file_id": "1Dz1CI0V9i3pwmEKelc58nKSdt8ceS4PU",
      "authorship_tag": "ABX9TyNq3MKnFc2nlxU236JQJPJl",
      "include_colab_link": true
    },
    "kernelspec": {
      "display_name": "Python 3",
      "name": "python3"
    },
    "language_info": {
      "name": "python"
    }
  },
  "nbformat": 4,
  "nbformat_minor": 0
}